{
 "cells": [
  {
   "cell_type": "markdown",
   "id": "f2a02df2",
   "metadata": {},
   "source": [
    "# Notes on Residual Pooling\n",
    "\n",
    "Notes describing the residual pooling algorithm for time-series compression.\n",
    "\n",
    "## Definitions\n",
    "Let's assume that we have a univariate time-series represented as a vector of data.\n",
    "$$\\mathbf{x} = [x_0,x_1,...,x_T], x_i \\in \\mathbb{R}, x \\in \\mathbb{R}^T$$\n",
    "\n",
    "### Pooling\n",
    "**Pooling** is an operation that reduces the dimensionality of a data series in a specific way. The pooling operation is defined by two parameters a kernel width $w$ and function $f$ that maps slices of the time-series of size $k$ to a scalar value.\n",
    "$$\\rho_{f,w}(\\mathbf{x}) = \\mathbf{p}[j] = f([x_{w\\cdot(j-1)},...,x_{w\\cdot(j)}])$$\n",
    "\n",
    "For this to work without ambiguity $T$ must be divisible by $k$. Let's see some examples of different pooling operations. Let's consider the \"mean\" pool operation over a kernel width of size $2$. In math this can be expressed as follows:\n",
    "$$\\rho_{mean,2}(\\mathbf{x}) = \\mathbf{p}[j] = mean([x_{w\\cdot(j-1)},...,x_{w\\cdot(j)}])$$\n",
    "\n",
    "and in code, this is expressed as:"
   ]
  },
  {
   "cell_type": "code",
   "execution_count": 15,
   "id": "63654005",
   "metadata": {},
   "outputs": [
    {
     "name": "stdout",
     "output_type": "stream",
     "text": [
      "[2.  2.  6.5]\n",
      "[2.  1.5]\n"
     ]
    }
   ],
   "source": [
    "import numpy as np\n",
    "\n",
    "def mean_pool_2(x):\n",
    "    return np.mean(x.reshape(-1,2), axis=1)\n",
    "\n",
    "print(mean_pool_2(np.array([1,3,4,0,6,7])))\n",
    "print(mean_pool_2(np.array([1,3,1,2])))"
   ]
  },
  {
   "cell_type": "markdown",
   "id": "bfc8a8e5",
   "metadata": {},
   "source": [
    "The operation takes each window of size 2 and calculates the mean value. One could imagine a similar operation that takes the median:"
   ]
  },
  {
   "cell_type": "code",
   "execution_count": 12,
   "id": "f20b7aa3",
   "metadata": {},
   "outputs": [
    {
     "name": "stdout",
     "output_type": "stream",
     "text": [
      "[3. 6.]\n"
     ]
    }
   ],
   "source": [
    "def median_pool_3(x):\n",
    "    return np.median(x.reshape(-1,3),axis=1)\n",
    "\n",
    "print(median_pool_3(np.array([1,3,4,0,6,7])))"
   ]
  },
  {
   "cell_type": "markdown",
   "id": "e1d89564",
   "metadata": {},
   "source": [
    "Even \"stratified\" sampling can be expressed as a pooling operation. Consider the function that takes a window of size 3 and extracts a single random element from each:"
   ]
  },
  {
   "cell_type": "code",
   "execution_count": 14,
   "id": "c56b2531",
   "metadata": {},
   "outputs": [
    {
     "name": "stdout",
     "output_type": "stream",
     "text": [
      "[1 7]\n"
     ]
    }
   ],
   "source": [
    "def sample_pool_3(x):\n",
    "    slices = x.reshape(-1,3)\n",
    "    N,_ = slices.shape\n",
    "    \n",
    "    return np.array([np.random.choice(slices[i]) for i in range(N)])\n",
    "\n",
    "print(sample_pool_3(np.array([1,3,4,0,6,7])))"
   ]
  },
  {
   "cell_type": "markdown",
   "id": "6c188a87",
   "metadata": {},
   "source": [
    "We can write a generic pooling function as follows"
   ]
  },
  {
   "cell_type": "code",
   "execution_count": 19,
   "id": "7e15fac4",
   "metadata": {},
   "outputs": [
    {
     "name": "stdout",
     "output_type": "stream",
     "text": [
      "[2.  2.  6.5]\n",
      "[3 4 7]\n",
      "[3.5]\n"
     ]
    }
   ],
   "source": [
    "def pool(x, fn, width):\n",
    "    slices = x.reshape(-1,width)\n",
    "    N,_ = slices.shape\n",
    "    \n",
    "    return np.array([fn(slices[i]) for i in range(N)])\n",
    "\n",
    "print(pool(np.array([1,3,4,0,6,7]), np.mean, 2))\n",
    "print(pool(np.array([1,3,4,0,6,7]), np.max, 2))\n",
    "print(pool(np.array([1,3,4,0,6,7]), np.median, 6))"
   ]
  },
  {
   "cell_type": "markdown",
   "id": "eadccb44",
   "metadata": {},
   "source": [
    "### Spline Interpolation\n",
    "\n",
    "Pooling is usually a lossy operation since it encodes a slice of size $w$ with a single number. Thus, inverting this operation will only give us an approximation of the original series. \n",
    "\n",
    "We have some function $s$ that tries to estimate the original time-series from the pooled values.\n",
    "$$ s(p_{f,w}(\\mathbf{x})) \\approx \\mathbf{x} $$\n",
    "\n",
    "The simplest way to do this is to duplicate each value $w$ times:\n",
    "$$ s(\\mathbf{p}) = [\\mathbf{p}[0],\\mathbf{p}[0],...\\times w,...,\\mathbf{p}[T/w],\\mathbf{p}[T/w]]$$\n",
    "\n",
    "This is a specical case of spline interpolation. We can think of each function of a slice as a summary of the values in that slice. The problem of inversion is similar to an interpolation problem where each slice can be thought as a sample of the original data. Spline interpolation is a form of interpolation where the interpolant is a special type of piecewise polynomial called a spline. That is, instead of fitting a single, high-degree polynomial to all of the values at once, spline interpolation fits low-degree polynomials to small subsets of the values. In the duplication case above one is simply fitting a constant function.\n",
    "\n",
    "We model the interpolation in a simple way where every $\\mathbf{p}[j]$ can be thought of as an estimate for the midpoint of the interval it represents. Let's see some examples of how this works with different interpolation techniques from `scipy.interpolate.interp1d`."
   ]
  },
  {
   "cell_type": "code",
   "execution_count": 99,
   "id": "abf36ac1",
   "metadata": {},
   "outputs": [],
   "source": [
    "from scipy.interpolate import interp1d\n",
    "\n",
    "def spline(p, width, inter):\n",
    "    N = p.shape[0]\n",
    "    \n",
    "    #degenerate case\n",
    "    if N == 1:\n",
    "        return np.ones(N*width)*p[0]\n",
    "    \n",
    "    #treat every obs as midpoint of its range\n",
    "    fn = interp1d(np.arange(0,N*width, width) + (width-1)/2, p, \\\n",
    "                  kind=inter, fill_value=\"extrapolate\")\n",
    "    \n",
    "    return fn(np.arange(0,N*width,1))"
   ]
  },
  {
   "cell_type": "markdown",
   "id": "5ac86102",
   "metadata": {},
   "source": [
    "In the simplest case, this function can return the duplication interpolation that we discussed before:"
   ]
  },
  {
   "cell_type": "code",
   "execution_count": 100,
   "id": "320ca161",
   "metadata": {},
   "outputs": [
    {
     "data": {
      "text/plain": [
       "array([0., 0., 1., 1., 2., 2.])"
      ]
     },
     "execution_count": 100,
     "metadata": {},
     "output_type": "execute_result"
    }
   ],
   "source": [
    "spline(np.array([0,1,2]),2,'nearest')"
   ]
  },
  {
   "cell_type": "markdown",
   "id": "b7d834d7",
   "metadata": {},
   "source": [
    "This function can act as a reasonable inverse for pooling functions if the original time-series is very consistent in terms of its neighboring values."
   ]
  },
  {
   "cell_type": "code",
   "execution_count": 101,
   "id": "f96d821a",
   "metadata": {},
   "outputs": [
    {
     "name": "stdout",
     "output_type": "stream",
     "text": [
      "Data:  [1.04 1.1  1.36 1.4  1.52 1.7 ]\n",
      "Mean2 Pool:  [1.07 1.38 1.61]\n",
      "Reconstruction:  [1.07 1.07 1.38 1.38 1.61 1.61]\n",
      "Errors:  [-0.03  0.03 -0.02  0.02 -0.09  0.09]\n"
     ]
    }
   ],
   "source": [
    "x = np.array([1.04,1.1,1.36,1.4,1.52,1.7])\n",
    "p = pool(x, np.mean, 2)\n",
    "xh = spline(p, 2, 'nearest')\n",
    "\n",
    "print('Data: ', x)\n",
    "print('Mean2 Pool: ', p)\n",
    "print('Reconstruction: ', xh)\n",
    "print('Errors: ', x-xh)"
   ]
  },
  {
   "cell_type": "markdown",
   "id": "d1a6fbf9",
   "metadata": {},
   "source": [
    "However, this might not be the best approach in all cases. Consider the following data, where there is a consistent trend:"
   ]
  },
  {
   "cell_type": "code",
   "execution_count": 102,
   "id": "18f51fdf",
   "metadata": {},
   "outputs": [
    {
     "name": "stdout",
     "output_type": "stream",
     "text": [
      "Data:  [0 1 2 3 4 5]\n",
      "Mean2 Pool:  [0.5 2.5 4.5]\n",
      "Reconstruction:  [0.5 0.5 2.5 2.5 4.5 4.5]\n",
      "Errors:  [-0.5  0.5 -0.5  0.5 -0.5  0.5]\n"
     ]
    }
   ],
   "source": [
    "x = np.array([0,1,2,3,4,5])\n",
    "p = pool(x, np.mean, 2)\n",
    "xh = spline(p, 2, 'nearest')\n",
    "\n",
    "print('Data: ', x)\n",
    "print('Mean2 Pool: ', p)\n",
    "print('Reconstruction: ', xh)\n",
    "print('Errors: ', x-xh)"
   ]
  },
  {
   "cell_type": "markdown",
   "id": "81fd7080",
   "metadata": {},
   "source": [
    "The first value of the reconstruction of each slice systematically under-estimates and the second over-estimates. We can fix this by using a higher-order interpolation. Consider interpolating the data with a linear function."
   ]
  },
  {
   "cell_type": "code",
   "execution_count": 103,
   "id": "f4421b98",
   "metadata": {},
   "outputs": [
    {
     "name": "stdout",
     "output_type": "stream",
     "text": [
      "Data:  [0 1 2 3 4 5]\n",
      "Mean2 Pool:  [0.5 2.5 4.5]\n",
      "Reconstruction:  [0. 1. 2. 3. 4. 5.]\n",
      "Errors:  [0. 0. 0. 0. 0. 0.]\n"
     ]
    }
   ],
   "source": [
    "x = np.array([0,1,2,3,4,5])\n",
    "p = pool(x, np.mean, 2)\n",
    "xh = spline(p, 2, 'linear')\n",
    "\n",
    "print('Data: ', x)\n",
    "print('Mean2 Pool: ', p)\n",
    "print('Reconstruction: ', xh)\n",
    "print('Errors: ', x-xh)"
   ]
  },
  {
   "cell_type": "markdown",
   "id": "ce33529c",
   "metadata": {},
   "source": [
    "## Residual Vectors\n",
    "The error vectors in both of the cases above are really interesting, because while the time-series contain six distinct valuees, the error vectors are more repetitive. We call these vectors the \"residual\" vectors. \n",
    "\n",
    "$$ \\mathbf{r} = \\mathbf{x} - s(\\mathbf{p})$$\n",
    "\n",
    "The key insight of our work is that residual vectors are generally more compressible than the original time-series. This is the same basic insight in delta coding but we will show how we can extend it. "
   ]
  },
  {
   "cell_type": "code",
   "execution_count": 135,
   "id": "cbcf39a9",
   "metadata": {},
   "outputs": [
    {
     "data": {
      "text/plain": [
       "(array([0.5, 0.5, 2.5, 2.5, 4.5, 4.5]),\n",
       " array([-0.5,  0.5, -0.5,  0.5, -0.5,  0.5]))"
      ]
     },
     "execution_count": 135,
     "metadata": {},
     "output_type": "execute_result"
    }
   ],
   "source": [
    "def residual(x, pool_fn, spline_fn):\n",
    "    p = pool_fn(x)\n",
    "    xh = spline_fn(p)\n",
    "    return xh, x - xh\n",
    "\n",
    "x = np.array([0,1,2,3,4,5])\n",
    "residual(x, lambda y: pool(y, np.mean, 2), \\\n",
    "            lambda y: spline(y,2, 'nearest'))"
   ]
  },
  {
   "cell_type": "markdown",
   "id": "e29e1bc7",
   "metadata": {},
   "source": [
    "It is clearly true that $\\mathbf{x} = s(\\mathbf{p}) + \\mathbf{r}$, simply by definition: "
   ]
  },
  {
   "cell_type": "code",
   "execution_count": 105,
   "id": "1953c2de",
   "metadata": {},
   "outputs": [
    {
     "name": "stdout",
     "output_type": "stream",
     "text": [
      "[0 1 2 3 4 5] [0. 1. 2. 3. 4. 5.]\n"
     ]
    }
   ],
   "source": [
    "x = np.array([0,1,2,3,4,5])\n",
    "xh, r = residual(x, lambda y: pool(y, np.mean, 2), \\\n",
    "            lambda y: spline(y,2, 'nearest'))\n",
    "print(x, xh+r)"
   ]
  },
  {
   "cell_type": "markdown",
   "id": "9717151c",
   "metadata": {},
   "source": [
    "Now, let's further consider *applying a pooling operation to* $\\mathbf{r}$ independent of $\\mathbf{x}$. This would result in a $\\mathbf{p}_r$ and a new residual $\\mathbf{r}_2$. The same equality above would hold:\n",
    "$$\\mathbf{r} = \\mathbf{r}_2 + s(\\mathbf{p}_r) $$\n",
    "\n",
    "Since the residuals are additive, it is easy to see that:\n",
    "$$\\mathbf{x} = s(\\mathbf{p}) + s(\\mathbf{p}_r) + \\mathbf{r}_2$$\n",
    "\n",
    "We can repeat this operation any number of times pooling the resulting residual vector.\n",
    "Suppose, we constructed a sequence of pooling and spline operations in such a way that the final $\\mathbf{r}_i$ was guaranteed to be 0, then it is sufficient to store each of the pooled residuals to fully reconstruct $\\mathbf{x}$."
   ]
  },
  {
   "cell_type": "markdown",
   "id": "a7fec993",
   "metadata": {},
   "source": [
    "One way to achieve this goal is to create a heirarchy of pooling functions. Let's assume that $T = 2^k$, i.e., $T$ is a power of two. Consider the following sequence of pooling and interpolation:\n",
    "$$\\mathbf{r_0} = \\mathbf{x}$$\n",
    "$$\\mathbf{p_0} = p_{f,2^0}(\\mathbf{r_0})$$\n",
    "$$\\mathbf{r_1} = \\mathbf{r_0} - s(\\mathbf{p_0})$$\n",
    "$$\\mathbf{p_1} = p_{f,2^1}(\\mathbf{r_1})$$\n",
    "$$\\mathbf{r_2} = \\mathbf{r_1} - s(\\mathbf{p_1})$$\n",
    "$$...$$\n",
    "$$\\mathbf{p_{k-1}} = p_{f,2^{k-1}}(\\mathbf{r_{k-1}})$$\n",
    "$$\\mathbf{r_k} = \\mathbf{r_{k-1}} - s(\\mathbf{p_{k-1}})$$\n",
    "\n",
    "With this hierarchy, we can show that:\n",
    "$$\\mathbf{x} = \\sum_{i=0}^k s(\\mathbf{p_0}) $$\n",
    "\n",
    "Let's see this in code to better understand how it works."
   ]
  },
  {
   "cell_type": "code",
   "execution_count": 113,
   "id": "00ba853a",
   "metadata": {},
   "outputs": [
    {
     "data": {
      "text/plain": [
       "[array([5.75]),\n",
       " array([-2.75,  2.75]),\n",
       " array([-1.5,  1.5, -2. ,  2. ]),\n",
       " array([-0.5,  0.5, -0.5,  0.5, -0.5,  0.5, -0.5,  0.5])]"
      ]
     },
     "execution_count": 113,
     "metadata": {},
     "output_type": "execute_result"
    }
   ],
   "source": [
    "def hierarchy(x):\n",
    "    curr = x.copy().astype(np.float64) #copy x\n",
    "    N = x.shape[0]\n",
    "    k = int(np.log2(N))+1\n",
    "    \n",
    "    pooled = []\n",
    "    \n",
    "    for i in range(k):\n",
    "        w = N // (2**i)\n",
    "        v = pool(curr, np.mean, w)\n",
    "        curr -= spline(v, w, 'nearest')\n",
    "        \n",
    "        pooled.append(v)\n",
    "    \n",
    "    return pooled\n",
    "\n",
    "hierarchy(np.array([1,2,4,5,6,7,10,11]))"
   ]
  },
  {
   "cell_type": "markdown",
   "id": "dbb2949d",
   "metadata": {},
   "source": [
    "To reconstruct the original array, we simply have to do the following:"
   ]
  },
  {
   "cell_type": "code",
   "execution_count": 152,
   "id": "21722bd8",
   "metadata": {},
   "outputs": [
    {
     "data": {
      "text/plain": [
       "array([ 1.,  2.,  4.,  5.,  6.,  7., 10., 11.])"
      ]
     },
     "execution_count": 152,
     "metadata": {},
     "output_type": "execute_result"
    }
   ],
   "source": [
    "def reconstruct(hier, sfn='nearest'):\n",
    "    N = hier[-1].shape[0]\n",
    "    x = np.zeros(N)\n",
    "\n",
    "    for arr in hier:\n",
    "        w = N//arr.shape[0]\n",
    "        x += spline(arr, w, sfn)\n",
    "        \n",
    "    return x\n",
    "\n",
    "h = hierarchy(np.array([1,2,4,5,6,7,10,11]))\n",
    "reconstruct(h)"
   ]
  },
  {
   "cell_type": "markdown",
   "id": "9933bc81",
   "metadata": {},
   "source": [
    "**What I suspect is true** For any consistent pooling function (one that is lossless with $w=1$) and interpolating spline (one that is lossless at the control points), this hierarchy is always lossless."
   ]
  },
  {
   "cell_type": "markdown",
   "id": "68ecd989",
   "metadata": {},
   "source": [
    "## Lossy Residual Vectors\n",
    "Suppose, we now were fine with a lossy representation of the data. That is for reconstruction we were willing to tolerate an error on each element of at most $\\epsilon$. This is realy to engineer, we just have to zero out all residuals that have an absolute value less than that."
   ]
  },
  {
   "cell_type": "code",
   "execution_count": 162,
   "id": "ba61dd0e",
   "metadata": {},
   "outputs": [],
   "source": [
    "def hierarchy_lossy(x, epsilon=0, sfn='nearest', pfn=np.mean):\n",
    "    curr = x.copy().astype(np.float64) #copy x\n",
    "    N = x.shape[0]\n",
    "    k = int(np.log2(N))+1\n",
    "    \n",
    "    pooled = []\n",
    "    \n",
    "    for i in range(k):\n",
    "        w = N // (2**i)\n",
    "        v = pool(curr, pfn, w)\n",
    "        curr -= spline(v, w, sfn)\n",
    "        \n",
    "        \n",
    "        #new code\n",
    "        _, r = residual(curr, lambda y: pool(y, pfn, w), \\\n",
    "                           lambda y: spline(y, w, sfn))\n",
    "        #step 1. calculate residual\n",
    "        \n",
    "        rp = pool(np.abs(r), np.max, w)\n",
    "        #step 2. find max abs error in each pool\n",
    "        \n",
    "        mask = np.repeat((rp <= epsilon), w).astype(np.bool)\n",
    "        #step 3. generate a zero'ing out mask for the residual\n",
    "    \n",
    "        curr[mask] = 0\n",
    "        #Step 4. zero out residual\n",
    "        \n",
    "        if i == k - 1:\n",
    "            v[np.abs(v) <= epsilon] = 0\n",
    "        #Step 5. zero out last stored pooled residual (can also quantize)\n",
    "        \n",
    "        pooled.append(v)\n",
    "    \n",
    "    return pooled"
   ]
  },
  {
   "cell_type": "markdown",
   "id": "6b158f1b",
   "metadata": {},
   "source": [
    "If we set epsilon to zero, then we have a lossless hierarchy"
   ]
  },
  {
   "cell_type": "code",
   "execution_count": 163,
   "id": "0779611a",
   "metadata": {},
   "outputs": [
    {
     "name": "stdout",
     "output_type": "stream",
     "text": [
      "[array([5.75]), array([-2.75,  2.75]), array([-1.5,  1.5, -2. ,  2. ]), array([-0.5,  0.5, -0.5,  0.5, -0.5,  0.5, -0.5,  0.5])]\n"
     ]
    },
    {
     "name": "stderr",
     "output_type": "stream",
     "text": [
      "<ipython-input-162-30625ad19d42>:22: DeprecationWarning: `np.bool` is a deprecated alias for the builtin `bool`. To silence this warning, use `bool` by itself. Doing this will not modify any behavior and is safe. If you specifically wanted the numpy scalar type, use `np.bool_` here.\n",
      "Deprecated in NumPy 1.20; for more details and guidance: https://numpy.org/devdocs/release/1.20.0-notes.html#deprecations\n",
      "  mask = np.repeat((rp <= epsilon), w).astype(np.bool)\n"
     ]
    }
   ],
   "source": [
    "print(hierarchy_lossy(np.array([1,2,4,5,6,7,10,11]), epsilon=0))"
   ]
  },
  {
   "cell_type": "markdown",
   "id": "f9a408fd",
   "metadata": {},
   "source": [
    "Let's set $\\epsilon$ to 0.5, and then see what happens:"
   ]
  },
  {
   "cell_type": "code",
   "execution_count": 164,
   "id": "45211eb0",
   "metadata": {},
   "outputs": [
    {
     "name": "stdout",
     "output_type": "stream",
     "text": [
      "Compressed [array([5.75]), array([-2.75,  2.75]), array([-1.5,  1.5, -2. ,  2. ]), array([0., 0., 0., 0., 0., 0., 0., 0.])]\n"
     ]
    },
    {
     "name": "stderr",
     "output_type": "stream",
     "text": [
      "<ipython-input-162-30625ad19d42>:22: DeprecationWarning: `np.bool` is a deprecated alias for the builtin `bool`. To silence this warning, use `bool` by itself. Doing this will not modify any behavior and is safe. If you specifically wanted the numpy scalar type, use `np.bool_` here.\n",
      "Deprecated in NumPy 1.20; for more details and guidance: https://numpy.org/devdocs/release/1.20.0-notes.html#deprecations\n",
      "  mask = np.repeat((rp <= epsilon), w).astype(np.bool)\n"
     ]
    }
   ],
   "source": [
    "compressed = hierarchy_lossy(np.array([1,2,4,5,6,7,10,11]), epsilon=0.5)\n",
    "print('Compressed', compressed)"
   ]
  },
  {
   "cell_type": "markdown",
   "id": "c2fe5622",
   "metadata": {},
   "source": [
    "The entire last level of the hierarchy is all zero and doesn't have to be stored."
   ]
  },
  {
   "cell_type": "code",
   "execution_count": 165,
   "id": "d7839a04",
   "metadata": {},
   "outputs": [
    {
     "name": "stdout",
     "output_type": "stream",
     "text": [
      "Reconstruction [ 1.5  1.5  4.5  4.5  6.5  6.5 10.5 10.5]\n",
      "Original [ 1  2  4  5  6  7 10 11]\n"
     ]
    }
   ],
   "source": [
    "print('Reconstruction', reconstruct(compressed))\n",
    "print('Original', np.array([1,2,4,5,6,7,10,11]))"
   ]
  },
  {
   "cell_type": "markdown",
   "id": "a1be3da9",
   "metadata": {},
   "source": [
    "We can try out different pooling and spline functions as well. These result in more zeros in the representation that can be easily compressed."
   ]
  },
  {
   "cell_type": "code",
   "execution_count": 166,
   "id": "64fbe203",
   "metadata": {},
   "outputs": [
    {
     "name": "stdout",
     "output_type": "stream",
     "text": [
      "Compressed [array([5.75]), array([-2.75,  2.75]), array([ 0.   ,  0.   , -0.625,  0.625]), array([0., 0., 0., 0., 0., 0., 0., 0.])]\n",
      "Reconstruction [ 0.9375   2.3125   3.6875   4.90625  5.96875  7.5      9.5     11.5    ]\n",
      "Original [ 1  2  4  5  6  7 10 11]\n"
     ]
    },
    {
     "name": "stderr",
     "output_type": "stream",
     "text": [
      "<ipython-input-162-30625ad19d42>:22: DeprecationWarning: `np.bool` is a deprecated alias for the builtin `bool`. To silence this warning, use `bool` by itself. Doing this will not modify any behavior and is safe. If you specifically wanted the numpy scalar type, use `np.bool_` here.\n",
      "Deprecated in NumPy 1.20; for more details and guidance: https://numpy.org/devdocs/release/1.20.0-notes.html#deprecations\n",
      "  mask = np.repeat((rp <= epsilon), w).astype(np.bool)\n"
     ]
    }
   ],
   "source": [
    "compressed = hierarchy_lossy(np.array([1,2,4,5,6,7,10,11]), epsilon=0.5, sfn='linear')\n",
    "print('Compressed', compressed)\n",
    "print('Reconstruction', reconstruct(compressed, sfn='linear'))\n",
    "print('Original', np.array([1,2,4,5,6,7,10,11]))"
   ]
  },
  {
   "cell_type": "code",
   "execution_count": 167,
   "id": "ffcaf265",
   "metadata": {},
   "outputs": [
    {
     "name": "stdout",
     "output_type": "stream",
     "text": [
      "Compressed [array([5.5]), array([-2.5,  3. ]), array([ 0.   ,  0.   , -0.625,  0.625]), array([0., 0., 0., 0., 0., 0., 0., 0.])]\n",
      "Reconstruction [ 0.9375   2.3125   3.6875   4.90625  5.96875  7.5      9.5     11.5    ]\n",
      "Original [ 1  2  4  5  6  7 10 11]\n"
     ]
    },
    {
     "name": "stderr",
     "output_type": "stream",
     "text": [
      "<ipython-input-162-30625ad19d42>:22: DeprecationWarning: `np.bool` is a deprecated alias for the builtin `bool`. To silence this warning, use `bool` by itself. Doing this will not modify any behavior and is safe. If you specifically wanted the numpy scalar type, use `np.bool_` here.\n",
      "Deprecated in NumPy 1.20; for more details and guidance: https://numpy.org/devdocs/release/1.20.0-notes.html#deprecations\n",
      "  mask = np.repeat((rp <= epsilon), w).astype(np.bool)\n"
     ]
    }
   ],
   "source": [
    "compressed = hierarchy_lossy(np.array([1,2,4,5,6,7,10,11]), epsilon=0.5, pfn = np.median,sfn='linear')\n",
    "print('Compressed', compressed)\n",
    "print('Reconstruction', reconstruct(compressed, sfn='linear'))\n",
    "print('Original', np.array([1,2,4,5,6,7,10,11]))"
   ]
  },
  {
   "cell_type": "code",
   "execution_count": null,
   "id": "032ded65",
   "metadata": {},
   "outputs": [],
   "source": []
  }
 ],
 "metadata": {
  "kernelspec": {
   "display_name": "Python 3",
   "language": "python",
   "name": "python3"
  },
  "language_info": {
   "codemirror_mode": {
    "name": "ipython",
    "version": 3
   },
   "file_extension": ".py",
   "mimetype": "text/x-python",
   "name": "python",
   "nbconvert_exporter": "python",
   "pygments_lexer": "ipython3",
   "version": "3.9.4"
  }
 },
 "nbformat": 4,
 "nbformat_minor": 5
}
